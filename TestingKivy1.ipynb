{
 "cells": [
  {
   "cell_type": "code",
   "execution_count": null,
   "id": "92841736-c71c-4776-b671-4f7c0a921b2b",
   "metadata": {},
   "outputs": [],
   "source": []
  },
  {
   "cell_type": "code",
   "execution_count": null,
   "id": "1503bee6-0914-4408-840b-62153e47dfb4",
   "metadata": {},
   "outputs": [],
   "source": [
    "#############https://www.techwithtim.net/tutorials/kivy-tutorial/the-kv-design-language-kv-file/\n",
    "#Important note KV file needs to have identations 4x multiple\n",
    "# had to instal pyspark as a kivy requirement\n",
    "#This python file goes together with my.kv, both fileds need to be in the same working directory\n"
   ]
  },
  {
   "cell_type": "code",
   "execution_count": null,
   "id": "6ad8193e-8b49-4886-9cb2-417003102298",
   "metadata": {},
   "outputs": [],
   "source": [
    "from kivy.app import App\n",
    "from kivy.uix.widget import Widget\n",
    "from kivy.config import Config\n",
    "\n",
    "#Turns off Full screen otherwise cant see anything\n",
    "Config.set('graphics', 'fullscreen', '0')\n",
    "Config.write()\n",
    "\n",
    "#Sets dimensions of the window\n",
    "Config.set('graphics', 'width', '1000')\n",
    "Config.set('graphics', 'height', '1000')\n",
    "\n",
    "\n",
    "class MyGrid(Widget):\n",
    "    pass\n",
    "    \n",
    "class MyApp (App):\n",
    "#kv file created my.kv\n",
    "    \n",
    "    \n",
    "    def build(self):\n",
    "        return MyGrid()\n",
    "    \n",
    "# if __name == \"__main__\":\n",
    "#     MyApp().run()\n",
    "    \n",
    "MyApp().run()"
   ]
  },
  {
   "cell_type": "markdown",
   "id": "1e15908e-5ca3-4806-acf1-de381cd939a7",
   "metadata": {},
   "source": [
    "# "
   ]
  }
 ],
 "metadata": {
  "kernelspec": {
   "display_name": "Python 3 (ipykernel)",
   "language": "python",
   "name": "python3"
  },
  "language_info": {
   "codemirror_mode": {
    "name": "ipython",
    "version": 3
   },
   "file_extension": ".py",
   "mimetype": "text/x-python",
   "name": "python",
   "nbconvert_exporter": "python",
   "pygments_lexer": "ipython3",
   "version": "3.9.15"
  }
 },
 "nbformat": 4,
 "nbformat_minor": 5
}
